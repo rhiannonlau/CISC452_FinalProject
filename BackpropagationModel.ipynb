{
 "cells": [
  {
   "cell_type": "code",
   "execution_count": 9,
   "metadata": {},
   "outputs": [],
   "source": [
    "#Imports\n",
    "import numpy as np\n",
    "import pandas as pd\n",
    "from sklearn.preprocessing import StandardScaler\n",
    "from sklearn.feature_extraction.text import TfidfVectorizer"
   ]
  },
  {
   "cell_type": "code",
   "execution_count": 10,
   "metadata": {},
   "outputs": [],
   "source": [
    "#Load datasets\n",
    "# movie dataset\n",
    "mov_data = pd.read_csv('data/movie.csv', delimiter=',', quotechar='\"', encoding='utf-8', on_bad_lines='skip')\n",
    "mov_data = mov_data.to_numpy()\n",
    "mov_data.shape\n",
    "mov_X = mov_data[1:, 0] # all rows except the first one, text column\n",
    "mov_y = mov_data[1:, 1] # all rows except the first one, label column\n",
    "\n",
    "# chat gpt dataset\n",
    "cgpt_data = pd.read_csv('data/chatgpt_sentiment_analysis.csv', delimiter=',', quotechar='\"', encoding='utf-8', on_bad_lines='skip')\n",
    "cgpt_data = cgpt_data.to_numpy()\n",
    "cgpt_data.shape\n",
    "cgpt_X = cgpt_data[1:, 1] # all rows except the first one, text column\n",
    "cgpt_y = cgpt_data[1:, 2] # all rows except the first one, label column\n",
    "\n",
    "# social media dataset\n",
    "sm_data = pd.read_csv('data/soc_med_sentiment_analysis.csv', delimiter=',', quotechar='\"', encoding='utf-8', on_bad_lines='skip')\n",
    "sm_data = sm_data.to_numpy()\n",
    "sm_data.shape\n",
    "sm_X = sm_data[1:, 4] # all rows except the first one, text column\n",
    "sm_y = sm_data[1:, 5] # all rows except the first one, label column"
   ]
  },
  {
   "cell_type": "code",
   "execution_count": 11,
   "metadata": {},
   "outputs": [],
   "source": [
    "#Combine X and Y dataframes, then vectorize\n",
    "X = np.concatenate([mov_X, cgpt_X, sm_X])\n",
    "y = np.concatenate([mov_y, cgpt_y, sm_y])\n",
    "\n",
    "vectorizer = TfidfVectorizer(max_features=1000)\n",
    "X = vectorizer.fit_transform(X).toarray()"
   ]
  },
  {
   "cell_type": "code",
   "execution_count": 12,
   "metadata": {},
   "outputs": [],
   "source": [
    "#Convert labels in y\n",
    "y = np.where(y == \"good\", 1, np.where(y == \"neutral\", 0, np.where(y == \"bad\", -1, y)))\n",
    "y = np.where(y == \"positive\", 1, np.where(y == \"neutral\", 0, np.where(y == \"negative\", -1, y)))"
   ]
  },
  {
   "cell_type": "code",
   "execution_count": 13,
   "metadata": {},
   "outputs": [],
   "source": [
    "#Preprocessing\n",
    "def preprocess(X, y):\n",
    "    # Normalize the data\n",
    "    scaler = StandardScaler()\n",
    "    X = scaler.fit_transform(X)\n",
    "\n",
    "    # Shuffle the data\n",
    "    indices = []\n",
    "\n",
    "    for i in range(len(X)):\n",
    "        indices.append(i)\n",
    "\n",
    "    np.random.shuffle(indices)\n",
    "    X = X[indices]\n",
    "    y = y[indices]\n",
    "\n",
    "    #Half the amount of data\n",
    "    split = int(0.5 * X.shape[0])\n",
    "    X = X[:split]\n",
    "    y = y[:split]\n",
    "\n",
    "    # Split data: training 80%, testing 20%\n",
    "    split = int(0.8 * X.shape[0])\n",
    "    X_train, X_test = X[:split], X[split:]\n",
    "    y_train, y_test = y[:split], y[split:]\n",
    "\n",
    "    # return X, X_train, X_test, y, y_train, y_test\n",
    "    return X_train, X_test, y_train, y_test\n",
    "\n",
    "X_train, X_test, y_train, y_test = preprocess(X, y)"
   ]
  },
  {
   "cell_type": "code",
   "execution_count": null,
   "metadata": {},
   "outputs": [],
   "source": [
    "#Model\n",
    "class BackPropagation:\n",
    "    def __init__(self, input_size, hidden_size, output_size):\n",
    "        self.input_size = input_size\n",
    "        self.hidden_size = hidden_size\n",
    "        self.output_size = output_size\n",
    "        \n",
    "        # Initialize weights and biases\n",
    "        self.b1 = np.zeros((1, self.hidden_size))\n",
    "        self.b2 = np.zeros((1, self.output_size))\n",
    "        self.W1 = np.random.randn(self.input_size, self.hidden_size) * np.sqrt(2 / self.input_size)\n",
    "        self.W2 = np.random.randn(self.hidden_size, self.output_size) * np.sqrt(2 / self.hidden_size)\n",
    "\n",
    "\n",
    "    def sigmoid(self, x):\n",
    "        return 1 / (1 + np.exp(-x))\n",
    "\n",
    "    def sigmoid_derivative(self, x):\n",
    "        return x * (1 - x)\n",
    "\n",
    "    def relu(self, x):\n",
    "        return x * (x >= 0)\n",
    "\n",
    "    def relu_derivative(self, x):\n",
    "        return 1. * (x > 0)\n",
    "\n",
    "    def forward(self, X):\n",
    "        # Hidden layer\n",
    "        hidden_activation = self.relu(np.dot(X, self.W1) + self.b1)\n",
    "        # Output layer\n",
    "        output = np.dot(hidden_activation, self.W2) + self.b2\n",
    "        return output\n",
    "\n",
    "    def backward(self, X, y, output, rate):\n",
    "        # Calculate error (output)\n",
    "        output_error = (y - output)\n",
    "\n",
    "        # Calculate hidden activations\n",
    "        hidden = self.relu(np.dot(X, self.W1) + self.b1)\n",
    "\n",
    "        # Calculate error (hidden)\n",
    "        hidden_error = np.dot(output_error, self.W2.T)\n",
    "        hidden_delta = hidden_error * self.sigmoid_derivative(hidden)\n",
    "\n",
    "        # Update weights\n",
    "        self.W2 = self.W2 + rate*(np.dot(hidden.T, output_error))\n",
    "        self.b2 = self.b2 + rate*(np.sum(output_error, axis=0, keepdims=True))\n",
    "\n",
    "        self.W1 = self.W1 + rate*(np.dot(X.T, hidden_delta))\n",
    "        self.b1 = self.b1 + rate*(np.sum(hidden_delta, axis=0, keepdims=True))\n",
    "        \n",
    "    def train(self, X, y, learning_rate, epochs):\n",
    "        y = y.reshape(-1,1)\n",
    "\n",
    "        for _ in range(epochs):\n",
    "            print(f\"W1 max: {np.max(self.W1)}, min: {np.min(self.W1)}\")\n",
    "            print(f\"W2 max: {np.max(self.W2)}, min: {np.min(self.W2)}\")\n",
    "            print(f\"B1 max: {np.max(self.b1)}, min: {np.min(self.b1)}\")\n",
    "            print(f\"B2 max: {np.max(self.b2)}, min: {np.min(self.b2)}\")\n",
    "            output = self.forward(X)\n",
    "            self.backward(X,y, output, learning_rate)\n",
    "\n",
    "    def predict(self, X):\n",
    "        return self.forward(X)"
   ]
  },
  {
   "cell_type": "code",
   "execution_count": null,
   "metadata": {},
   "outputs": [
    {
     "name": "stdout",
     "output_type": "stream",
     "text": [
      "W1 max: 0.18270504413674243, min: -0.15149077570746194\n",
      "W2 max: 0.5496137087376242, min: -0.7362625345992023\n",
      "B1 max: 0.0, min: 0.0\n",
      "B2 max: 0.0, min: 0.0\n"
     ]
    },
    {
     "ename": "TypeError",
     "evalue": "ufunc 'isinf' not supported for the input types, and the inputs could not be safely coerced to any supported types according to the casting rule ''safe''",
     "output_type": "error",
     "traceback": [
      "\u001b[1;31m---------------------------------------------------------------------------\u001b[0m",
      "\u001b[1;31mTypeError\u001b[0m                                 Traceback (most recent call last)",
      "Cell \u001b[1;32mIn[22], line 7\u001b[0m\n\u001b[0;32m      4\u001b[0m output_size \u001b[38;5;241m=\u001b[39m \u001b[38;5;241m1\u001b[39m\n\u001b[0;32m      6\u001b[0m bp \u001b[38;5;241m=\u001b[39m BackPropagation(input_size, hidden_size, output_size)\n\u001b[1;32m----> 7\u001b[0m \u001b[43mbp\u001b[49m\u001b[38;5;241;43m.\u001b[39;49m\u001b[43mtrain\u001b[49m\u001b[43m(\u001b[49m\u001b[43mX_train\u001b[49m\u001b[43m,\u001b[49m\u001b[43m \u001b[49m\u001b[43my_train\u001b[49m\u001b[43m,\u001b[49m\u001b[43m \u001b[49m\u001b[43mlearning_rate\u001b[49m\u001b[38;5;241;43m=\u001b[39;49m\u001b[38;5;241;43m0.001\u001b[39;49m\u001b[43m,\u001b[49m\u001b[43m \u001b[49m\u001b[43mepochs\u001b[49m\u001b[38;5;241;43m=\u001b[39;49m\u001b[38;5;241;43m4\u001b[39;49m\u001b[43m)\u001b[49m\n",
      "Cell \u001b[1;32mIn[21], line 65\u001b[0m, in \u001b[0;36mBackPropagation.train\u001b[1;34m(self, X, y, learning_rate, epochs)\u001b[0m\n\u001b[0;32m     63\u001b[0m \u001b[38;5;28mprint\u001b[39m(\u001b[38;5;124mf\u001b[39m\u001b[38;5;124m\"\u001b[39m\u001b[38;5;124mB2 max: \u001b[39m\u001b[38;5;132;01m{\u001b[39;00mnp\u001b[38;5;241m.\u001b[39mmax(\u001b[38;5;28mself\u001b[39m\u001b[38;5;241m.\u001b[39mb2)\u001b[38;5;132;01m}\u001b[39;00m\u001b[38;5;124m, min: \u001b[39m\u001b[38;5;132;01m{\u001b[39;00mnp\u001b[38;5;241m.\u001b[39mmin(\u001b[38;5;28mself\u001b[39m\u001b[38;5;241m.\u001b[39mb2)\u001b[38;5;132;01m}\u001b[39;00m\u001b[38;5;124m\"\u001b[39m)\n\u001b[0;32m     64\u001b[0m output \u001b[38;5;241m=\u001b[39m \u001b[38;5;28mself\u001b[39m\u001b[38;5;241m.\u001b[39mforward(X)\n\u001b[1;32m---> 65\u001b[0m \u001b[38;5;28;43mself\u001b[39;49m\u001b[38;5;241;43m.\u001b[39;49m\u001b[43mbackward\u001b[49m\u001b[43m(\u001b[49m\u001b[43mX\u001b[49m\u001b[43m,\u001b[49m\u001b[43my\u001b[49m\u001b[43m,\u001b[49m\u001b[43m \u001b[49m\u001b[43moutput\u001b[49m\u001b[43m,\u001b[49m\u001b[43m \u001b[49m\u001b[43mlearning_rate\u001b[49m\u001b[43m)\u001b[49m\n",
      "Cell \u001b[1;32mIn[21], line 46\u001b[0m, in \u001b[0;36mBackPropagation.backward\u001b[1;34m(self, X, y, output, rate)\u001b[0m\n\u001b[0;32m     43\u001b[0m hidden_delta \u001b[38;5;241m=\u001b[39m hidden_error \u001b[38;5;241m*\u001b[39m \u001b[38;5;28mself\u001b[39m\u001b[38;5;241m.\u001b[39msigmoid_derivative(hidden)\n\u001b[0;32m     45\u001b[0m \u001b[38;5;66;03m# Check for NaN or inf in hidden_error\u001b[39;00m\n\u001b[1;32m---> 46\u001b[0m \u001b[38;5;28;01mif\u001b[39;00m np\u001b[38;5;241m.\u001b[39many(\u001b[43mnp\u001b[49m\u001b[38;5;241;43m.\u001b[39;49m\u001b[43misinf\u001b[49m\u001b[43m(\u001b[49m\u001b[43mhidden_error\u001b[49m\u001b[43m)\u001b[49m):\n\u001b[0;32m     47\u001b[0m     \u001b[38;5;28mprint\u001b[39m(\u001b[38;5;124m\"\u001b[39m\u001b[38;5;124mHidden error contains NaN or inf values.\u001b[39m\u001b[38;5;124m\"\u001b[39m)\n\u001b[0;32m     49\u001b[0m \u001b[38;5;66;03m# Update weights\u001b[39;00m\n",
      "\u001b[1;31mTypeError\u001b[0m: ufunc 'isinf' not supported for the input types, and the inputs could not be safely coerced to any supported types according to the casting rule ''safe''"
     ]
    }
   ],
   "source": [
    "#backprop training\n",
    "input_size = X_train.shape[1]\n",
    "hidden_size = 10\n",
    "output_size = 1\n",
    "\n",
    "bp = BackPropagation(input_size, hidden_size, output_size)\n",
    "bp.train(X_train, y_train, learning_rate=0.0001, epochs=4)"
   ]
  },
  {
   "cell_type": "code",
   "execution_count": null,
   "metadata": {},
   "outputs": [],
   "source": [
    "#Predictions\n",
    "train_predictions = bp.predict(X_train)\n",
    "test_predictions = bp.predict(X_test)"
   ]
  },
  {
   "cell_type": "code",
   "execution_count": null,
   "metadata": {},
   "outputs": [],
   "source": [
    "train_predictions = train_predictions.flatten()\n",
    "test_predictions = test_predictions.flatten()"
   ]
  },
  {
   "cell_type": "code",
   "execution_count": null,
   "metadata": {},
   "outputs": [
    {
     "name": "stdout",
     "output_type": "stream",
     "text": [
      "Train MSE: inf\n",
      "Test MSE: inf\n"
     ]
    }
   ],
   "source": [
    "train_mse = np.mean((train_predictions - y_train) ** 2)\n",
    "test_mse = np.mean((test_predictions - y_test) ** 2)\n",
    "\n",
    "print(f\"Train MSE: {train_mse}\")\n",
    "print(f\"Test MSE: {test_mse}\")"
   ]
  }
 ],
 "metadata": {
  "kernelspec": {
   "display_name": "Python 3",
   "language": "python",
   "name": "python3"
  },
  "language_info": {
   "codemirror_mode": {
    "name": "ipython",
    "version": 3
   },
   "file_extension": ".py",
   "mimetype": "text/x-python",
   "name": "python",
   "nbconvert_exporter": "python",
   "pygments_lexer": "ipython3",
   "version": "3.11.9"
  }
 },
 "nbformat": 4,
 "nbformat_minor": 2
}
